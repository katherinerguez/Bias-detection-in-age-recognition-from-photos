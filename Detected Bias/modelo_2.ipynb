{
 "cells": [
  {
   "cell_type": "code",
   "execution_count": 1,
   "metadata": {},
   "outputs": [],
   "source": [
    "from metrics import equalized_odds,disparate_impact,labelBiasMultiClass,disparate_impact_ratio,chi_square_test\n",
    "from sklearn.metrics import recall_score\n",
    "import plotly.graph_objects as go\n",
    "import pandas as pd\n",
    "from datasets import load_dataset\n",
    "import numpy as np\n",
    "from torchvision import datasets, models, transforms\n",
    "import csv \n",
    "from sklearn import metrics\n",
    "import matplotlib.pyplot as plt\n",
    "from scipy.stats import chi2_contingency\n",
    "from sklearn.metrics import confusion_matrix"
   ]
  },
  {
   "cell_type": "code",
   "execution_count": 2,
   "metadata": {},
   "outputs": [],
   "source": [
    "race_true=['White','Black','Latino_Hispanic','East Asian','Southeast Asian','Indian','Middle Eastern']\n",
    "gender_true=['Male','Female']\n",
    "age_true=['0-2',\"3-9\",'10-19','20-29','30-39','40-49','50-59','60-69','70+']\n"
   ]
  },
  {
   "cell_type": "code",
   "execution_count": 3,
   "metadata": {},
   "outputs": [],
   "source": [
    "df= pd.read_csv(\"results.csv\")\n",
    "df[\"predicted_labels\"]=df[\"predicted_labels\"]"
   ]
  },
  {
   "cell_type": "code",
   "execution_count": 4,
   "metadata": {},
   "outputs": [
    {
     "name": "stdout",
     "output_type": "stream",
     "text": [
      "EQUALIZED ODDS\n",
      "[[0. 1. 0. 1. 1. 1. 1. 1. 1.]\n",
      " [1. 0. 1. 0. 1. 1. 1. 1. 1.]\n",
      " [0. 1. 0. 1. 0. 1. 0. 1. 1.]\n",
      " [1. 0. 1. 0. 1. 1. 1. 1. 1.]\n",
      " [1. 1. 0. 1. 0. 1. 0. 0. 0.]\n",
      " [1. 1. 1. 1. 1. 0. 1. 0. 0.]\n",
      " [1. 1. 0. 1. 0. 1. 0. 0. 0.]\n",
      " [1. 1. 1. 1. 0. 0. 0. 0. 0.]\n",
      " [1. 1. 1. 1. 0. 0. 0. 0. 0.]]\n",
      "DISPARATE IMPACT.\n",
      "Matriz de disparidad:\n",
      "[[0. 0. 0. 0. 0. 0. 0. 0. 0.]\n",
      " [1. 0. 0. 0. 0. 0. 0. 1. 1.]\n",
      " [1. 1. 0. 0. 0. 0. 0. 1. 1.]\n",
      " [1. 1. 1. 0. 0. 0. 1. 1. 1.]\n",
      " [1. 1. 1. 1. 0. 0. 1. 1. 1.]\n",
      " [1. 1. 1. 0. 0. 0. 1. 1. 1.]\n",
      " [1. 1. 0. 0. 0. 0. 0. 1. 1.]\n",
      " [1. 0. 0. 0. 0. 0. 0. 0. 1.]\n",
      " [0. 0. 0. 0. 0. 0. 0. 0. 0.]]\n"
     ]
    }
   ],
   "source": [
    "df_string=df.copy()\n",
    "edades_reemplazadas={ \n",
    "    0: \"9\",\n",
    "    1: \"1\",\n",
    "    2: \"2\",\n",
    "    3: \"3\",\n",
    "    4: \"4\",\n",
    "    5: \"5\",\n",
    "    6: \"6\",\n",
    "    7: \"7\",\n",
    "    8: \"8\"}\n",
    "\n",
    "df_string[\"predicted_labels\"]=df_string[\"predicted_labels\"].map(edades_reemplazadas)\n",
    "df_string[\"age\"]=df_string[\"age\"].map(edades_reemplazadas)\n",
    "disp_matrix=equalized_odds(df_string[\"age\"],df_string[\"predicted_labels\"],[\"9\",\"1\",\"2\",\"3\",\"4\",\"5\",\"6\",\"7\",\"8\"])\n",
    "\n",
    "labels = [\"9\", \"1\", \"2\", \"3\", \"4\", \"5\", \"6\", \"7\", \"8\"]\n",
    "disparity_matrix=disparate_impact(df_string[\"age\"], df_string[\"predicted_labels\"], labels)\n",
    "matrix=disp_matrix+disparity_matrix\n",
    "def replace(matrix, row, col):\n",
    "    \n",
    "    result= np.zeros((len(labels), len(labels)))\n",
    "    for i in range(col):\n",
    "        for j in range (row):\n",
    "            if  matrix[j][i]==2:\n",
    "                result[j][i]+=1\n",
    "    return result\n",
    "\n",
    "result = replace(matrix, len(matrix), len(matrix[0]) )"
   ]
  },
  {
   "cell_type": "code",
   "execution_count": 5,
   "metadata": {},
   "outputs": [
    {
     "data": {
      "application/vnd.plotly.v1+json": {
       "config": {
        "plotlyServerURL": "https://plot.ly"
       },
       "data": [
        {
         "colorscale": [
          [
           0,
           "#440154"
          ],
          [
           0.1111111111111111,
           "#482878"
          ],
          [
           0.2222222222222222,
           "#3e4989"
          ],
          [
           0.3333333333333333,
           "#31688e"
          ],
          [
           0.4444444444444444,
           "#26828e"
          ],
          [
           0.5555555555555556,
           "#1f9e89"
          ],
          [
           0.6666666666666666,
           "#35b779"
          ],
          [
           0.7777777777777778,
           "#6ece58"
          ],
          [
           0.8888888888888888,
           "#b5de2b"
          ],
          [
           1,
           "#fde725"
          ]
         ],
         "showscale": true,
         "type": "heatmap",
         "x": [
          "0-2",
          "3-9",
          "10-19",
          "20-29",
          "30-39",
          "40-49",
          "50-59",
          "60-69",
          "70+"
         ],
         "y": [
          "0-2",
          "3-9",
          "10-19",
          "20-29",
          "30-39",
          "40-49",
          "50-59",
          "60-69",
          "70+"
         ],
         "z": [
          [
           0,
           0,
           0,
           0,
           0,
           0,
           0,
           0,
           0
          ],
          [
           1,
           0,
           0,
           0,
           0,
           0,
           0,
           1,
           1
          ],
          [
           0,
           1,
           0,
           0,
           0,
           0,
           0,
           1,
           1
          ],
          [
           1,
           0,
           1,
           0,
           0,
           0,
           1,
           1,
           1
          ],
          [
           1,
           1,
           0,
           1,
           0,
           0,
           0,
           0,
           0
          ],
          [
           1,
           1,
           1,
           0,
           0,
           0,
           1,
           0,
           0
          ],
          [
           1,
           1,
           0,
           0,
           0,
           0,
           0,
           0,
           0
          ],
          [
           1,
           0,
           0,
           0,
           0,
           0,
           0,
           0,
           0
          ],
          [
           0,
           0,
           0,
           0,
           0,
           0,
           0,
           0,
           0
          ]
         ]
        }
       ],
       "layout": {
        "height": 600,
        "template": {
         "data": {
          "bar": [
           {
            "error_x": {
             "color": "#2a3f5f"
            },
            "error_y": {
             "color": "#2a3f5f"
            },
            "marker": {
             "line": {
              "color": "#E5ECF6",
              "width": 0.5
             },
             "pattern": {
              "fillmode": "overlay",
              "size": 10,
              "solidity": 0.2
             }
            },
            "type": "bar"
           }
          ],
          "barpolar": [
           {
            "marker": {
             "line": {
              "color": "#E5ECF6",
              "width": 0.5
             },
             "pattern": {
              "fillmode": "overlay",
              "size": 10,
              "solidity": 0.2
             }
            },
            "type": "barpolar"
           }
          ],
          "carpet": [
           {
            "aaxis": {
             "endlinecolor": "#2a3f5f",
             "gridcolor": "white",
             "linecolor": "white",
             "minorgridcolor": "white",
             "startlinecolor": "#2a3f5f"
            },
            "baxis": {
             "endlinecolor": "#2a3f5f",
             "gridcolor": "white",
             "linecolor": "white",
             "minorgridcolor": "white",
             "startlinecolor": "#2a3f5f"
            },
            "type": "carpet"
           }
          ],
          "choropleth": [
           {
            "colorbar": {
             "outlinewidth": 0,
             "ticks": ""
            },
            "type": "choropleth"
           }
          ],
          "contour": [
           {
            "colorbar": {
             "outlinewidth": 0,
             "ticks": ""
            },
            "colorscale": [
             [
              0,
              "#0d0887"
             ],
             [
              0.1111111111111111,
              "#46039f"
             ],
             [
              0.2222222222222222,
              "#7201a8"
             ],
             [
              0.3333333333333333,
              "#9c179e"
             ],
             [
              0.4444444444444444,
              "#bd3786"
             ],
             [
              0.5555555555555556,
              "#d8576b"
             ],
             [
              0.6666666666666666,
              "#ed7953"
             ],
             [
              0.7777777777777778,
              "#fb9f3a"
             ],
             [
              0.8888888888888888,
              "#fdca26"
             ],
             [
              1,
              "#f0f921"
             ]
            ],
            "type": "contour"
           }
          ],
          "contourcarpet": [
           {
            "colorbar": {
             "outlinewidth": 0,
             "ticks": ""
            },
            "type": "contourcarpet"
           }
          ],
          "heatmap": [
           {
            "colorbar": {
             "outlinewidth": 0,
             "ticks": ""
            },
            "colorscale": [
             [
              0,
              "#0d0887"
             ],
             [
              0.1111111111111111,
              "#46039f"
             ],
             [
              0.2222222222222222,
              "#7201a8"
             ],
             [
              0.3333333333333333,
              "#9c179e"
             ],
             [
              0.4444444444444444,
              "#bd3786"
             ],
             [
              0.5555555555555556,
              "#d8576b"
             ],
             [
              0.6666666666666666,
              "#ed7953"
             ],
             [
              0.7777777777777778,
              "#fb9f3a"
             ],
             [
              0.8888888888888888,
              "#fdca26"
             ],
             [
              1,
              "#f0f921"
             ]
            ],
            "type": "heatmap"
           }
          ],
          "heatmapgl": [
           {
            "colorbar": {
             "outlinewidth": 0,
             "ticks": ""
            },
            "colorscale": [
             [
              0,
              "#0d0887"
             ],
             [
              0.1111111111111111,
              "#46039f"
             ],
             [
              0.2222222222222222,
              "#7201a8"
             ],
             [
              0.3333333333333333,
              "#9c179e"
             ],
             [
              0.4444444444444444,
              "#bd3786"
             ],
             [
              0.5555555555555556,
              "#d8576b"
             ],
             [
              0.6666666666666666,
              "#ed7953"
             ],
             [
              0.7777777777777778,
              "#fb9f3a"
             ],
             [
              0.8888888888888888,
              "#fdca26"
             ],
             [
              1,
              "#f0f921"
             ]
            ],
            "type": "heatmapgl"
           }
          ],
          "histogram": [
           {
            "marker": {
             "pattern": {
              "fillmode": "overlay",
              "size": 10,
              "solidity": 0.2
             }
            },
            "type": "histogram"
           }
          ],
          "histogram2d": [
           {
            "colorbar": {
             "outlinewidth": 0,
             "ticks": ""
            },
            "colorscale": [
             [
              0,
              "#0d0887"
             ],
             [
              0.1111111111111111,
              "#46039f"
             ],
             [
              0.2222222222222222,
              "#7201a8"
             ],
             [
              0.3333333333333333,
              "#9c179e"
             ],
             [
              0.4444444444444444,
              "#bd3786"
             ],
             [
              0.5555555555555556,
              "#d8576b"
             ],
             [
              0.6666666666666666,
              "#ed7953"
             ],
             [
              0.7777777777777778,
              "#fb9f3a"
             ],
             [
              0.8888888888888888,
              "#fdca26"
             ],
             [
              1,
              "#f0f921"
             ]
            ],
            "type": "histogram2d"
           }
          ],
          "histogram2dcontour": [
           {
            "colorbar": {
             "outlinewidth": 0,
             "ticks": ""
            },
            "colorscale": [
             [
              0,
              "#0d0887"
             ],
             [
              0.1111111111111111,
              "#46039f"
             ],
             [
              0.2222222222222222,
              "#7201a8"
             ],
             [
              0.3333333333333333,
              "#9c179e"
             ],
             [
              0.4444444444444444,
              "#bd3786"
             ],
             [
              0.5555555555555556,
              "#d8576b"
             ],
             [
              0.6666666666666666,
              "#ed7953"
             ],
             [
              0.7777777777777778,
              "#fb9f3a"
             ],
             [
              0.8888888888888888,
              "#fdca26"
             ],
             [
              1,
              "#f0f921"
             ]
            ],
            "type": "histogram2dcontour"
           }
          ],
          "mesh3d": [
           {
            "colorbar": {
             "outlinewidth": 0,
             "ticks": ""
            },
            "type": "mesh3d"
           }
          ],
          "parcoords": [
           {
            "line": {
             "colorbar": {
              "outlinewidth": 0,
              "ticks": ""
             }
            },
            "type": "parcoords"
           }
          ],
          "pie": [
           {
            "automargin": true,
            "type": "pie"
           }
          ],
          "scatter": [
           {
            "fillpattern": {
             "fillmode": "overlay",
             "size": 10,
             "solidity": 0.2
            },
            "type": "scatter"
           }
          ],
          "scatter3d": [
           {
            "line": {
             "colorbar": {
              "outlinewidth": 0,
              "ticks": ""
             }
            },
            "marker": {
             "colorbar": {
              "outlinewidth": 0,
              "ticks": ""
             }
            },
            "type": "scatter3d"
           }
          ],
          "scattercarpet": [
           {
            "marker": {
             "colorbar": {
              "outlinewidth": 0,
              "ticks": ""
             }
            },
            "type": "scattercarpet"
           }
          ],
          "scattergeo": [
           {
            "marker": {
             "colorbar": {
              "outlinewidth": 0,
              "ticks": ""
             }
            },
            "type": "scattergeo"
           }
          ],
          "scattergl": [
           {
            "marker": {
             "colorbar": {
              "outlinewidth": 0,
              "ticks": ""
             }
            },
            "type": "scattergl"
           }
          ],
          "scattermapbox": [
           {
            "marker": {
             "colorbar": {
              "outlinewidth": 0,
              "ticks": ""
             }
            },
            "type": "scattermapbox"
           }
          ],
          "scatterpolar": [
           {
            "marker": {
             "colorbar": {
              "outlinewidth": 0,
              "ticks": ""
             }
            },
            "type": "scatterpolar"
           }
          ],
          "scatterpolargl": [
           {
            "marker": {
             "colorbar": {
              "outlinewidth": 0,
              "ticks": ""
             }
            },
            "type": "scatterpolargl"
           }
          ],
          "scatterternary": [
           {
            "marker": {
             "colorbar": {
              "outlinewidth": 0,
              "ticks": ""
             }
            },
            "type": "scatterternary"
           }
          ],
          "surface": [
           {
            "colorbar": {
             "outlinewidth": 0,
             "ticks": ""
            },
            "colorscale": [
             [
              0,
              "#0d0887"
             ],
             [
              0.1111111111111111,
              "#46039f"
             ],
             [
              0.2222222222222222,
              "#7201a8"
             ],
             [
              0.3333333333333333,
              "#9c179e"
             ],
             [
              0.4444444444444444,
              "#bd3786"
             ],
             [
              0.5555555555555556,
              "#d8576b"
             ],
             [
              0.6666666666666666,
              "#ed7953"
             ],
             [
              0.7777777777777778,
              "#fb9f3a"
             ],
             [
              0.8888888888888888,
              "#fdca26"
             ],
             [
              1,
              "#f0f921"
             ]
            ],
            "type": "surface"
           }
          ],
          "table": [
           {
            "cells": {
             "fill": {
              "color": "#EBF0F8"
             },
             "line": {
              "color": "white"
             }
            },
            "header": {
             "fill": {
              "color": "#C8D4E3"
             },
             "line": {
              "color": "white"
             }
            },
            "type": "table"
           }
          ]
         },
         "layout": {
          "annotationdefaults": {
           "arrowcolor": "#2a3f5f",
           "arrowhead": 0,
           "arrowwidth": 1
          },
          "autotypenumbers": "strict",
          "coloraxis": {
           "colorbar": {
            "outlinewidth": 0,
            "ticks": ""
           }
          },
          "colorscale": {
           "diverging": [
            [
             0,
             "#8e0152"
            ],
            [
             0.1,
             "#c51b7d"
            ],
            [
             0.2,
             "#de77ae"
            ],
            [
             0.3,
             "#f1b6da"
            ],
            [
             0.4,
             "#fde0ef"
            ],
            [
             0.5,
             "#f7f7f7"
            ],
            [
             0.6,
             "#e6f5d0"
            ],
            [
             0.7,
             "#b8e186"
            ],
            [
             0.8,
             "#7fbc41"
            ],
            [
             0.9,
             "#4d9221"
            ],
            [
             1,
             "#276419"
            ]
           ],
           "sequential": [
            [
             0,
             "#0d0887"
            ],
            [
             0.1111111111111111,
             "#46039f"
            ],
            [
             0.2222222222222222,
             "#7201a8"
            ],
            [
             0.3333333333333333,
             "#9c179e"
            ],
            [
             0.4444444444444444,
             "#bd3786"
            ],
            [
             0.5555555555555556,
             "#d8576b"
            ],
            [
             0.6666666666666666,
             "#ed7953"
            ],
            [
             0.7777777777777778,
             "#fb9f3a"
            ],
            [
             0.8888888888888888,
             "#fdca26"
            ],
            [
             1,
             "#f0f921"
            ]
           ],
           "sequentialminus": [
            [
             0,
             "#0d0887"
            ],
            [
             0.1111111111111111,
             "#46039f"
            ],
            [
             0.2222222222222222,
             "#7201a8"
            ],
            [
             0.3333333333333333,
             "#9c179e"
            ],
            [
             0.4444444444444444,
             "#bd3786"
            ],
            [
             0.5555555555555556,
             "#d8576b"
            ],
            [
             0.6666666666666666,
             "#ed7953"
            ],
            [
             0.7777777777777778,
             "#fb9f3a"
            ],
            [
             0.8888888888888888,
             "#fdca26"
            ],
            [
             1,
             "#f0f921"
            ]
           ]
          },
          "colorway": [
           "#636efa",
           "#EF553B",
           "#00cc96",
           "#ab63fa",
           "#FFA15A",
           "#19d3f3",
           "#FF6692",
           "#B6E880",
           "#FF97FF",
           "#FECB52"
          ],
          "font": {
           "color": "#2a3f5f"
          },
          "geo": {
           "bgcolor": "white",
           "lakecolor": "white",
           "landcolor": "#E5ECF6",
           "showlakes": true,
           "showland": true,
           "subunitcolor": "white"
          },
          "hoverlabel": {
           "align": "left"
          },
          "hovermode": "closest",
          "mapbox": {
           "style": "light"
          },
          "paper_bgcolor": "white",
          "plot_bgcolor": "#E5ECF6",
          "polar": {
           "angularaxis": {
            "gridcolor": "white",
            "linecolor": "white",
            "ticks": ""
           },
           "bgcolor": "#E5ECF6",
           "radialaxis": {
            "gridcolor": "white",
            "linecolor": "white",
            "ticks": ""
           }
          },
          "scene": {
           "xaxis": {
            "backgroundcolor": "#E5ECF6",
            "gridcolor": "white",
            "gridwidth": 2,
            "linecolor": "white",
            "showbackground": true,
            "ticks": "",
            "zerolinecolor": "white"
           },
           "yaxis": {
            "backgroundcolor": "#E5ECF6",
            "gridcolor": "white",
            "gridwidth": 2,
            "linecolor": "white",
            "showbackground": true,
            "ticks": "",
            "zerolinecolor": "white"
           },
           "zaxis": {
            "backgroundcolor": "#E5ECF6",
            "gridcolor": "white",
            "gridwidth": 2,
            "linecolor": "white",
            "showbackground": true,
            "ticks": "",
            "zerolinecolor": "white"
           }
          },
          "shapedefaults": {
           "line": {
            "color": "#2a3f5f"
           }
          },
          "ternary": {
           "aaxis": {
            "gridcolor": "white",
            "linecolor": "white",
            "ticks": ""
           },
           "baxis": {
            "gridcolor": "white",
            "linecolor": "white",
            "ticks": ""
           },
           "bgcolor": "#E5ECF6",
           "caxis": {
            "gridcolor": "white",
            "linecolor": "white",
            "ticks": ""
           }
          },
          "title": {
           "x": 0.05
          },
          "xaxis": {
           "automargin": true,
           "gridcolor": "white",
           "linecolor": "white",
           "ticks": "",
           "title": {
            "standoff": 15
           },
           "zerolinecolor": "white",
           "zerolinewidth": 2
          },
          "yaxis": {
           "automargin": true,
           "gridcolor": "white",
           "linecolor": "white",
           "ticks": "",
           "title": {
            "standoff": 15
           },
           "zerolinecolor": "white",
           "zerolinewidth": 2
          }
         }
        },
        "title": {
         "text": "Matriz de Disparidad Interactiva"
        },
        "width": 800
       }
      }
     },
     "metadata": {},
     "output_type": "display_data"
    }
   ],
   "source": [
    "\n",
    "fig = go.Figure(data=go.Heatmap(\n",
    "    z=result,\n",
    "    x=[age_true[i] for i in range(len(result[0]))],\n",
    "    y=[age_true[i] for i in range(len(result))],\n",
    "    colorscale='Viridis',\n",
    "    showscale=True\n",
    "))\n",
    "fig.update_layout(title='Matriz de Disparidad Interactiva', height=600, width=800)\n",
    "fig.show()"
   ]
  },
  {
   "cell_type": "code",
   "execution_count": 11,
   "metadata": {},
   "outputs": [
    {
     "data": {
      "image/png": "[encoded data removed]",
      "text/plain": [
       "<Figure size 640x480 with 1 Axes>"
      ]
     },
     "metadata": {},
     "output_type": "display_data"
    }
   ],
   "source": [
    "for i in range(7):\n",
    "    df_binario = df.copy()\n",
    "    # Cambiar los valores de la columna 'race' a binario\n",
    "    df_binario['race'] = df_binario['race'].apply(lambda x: 1 if x == i else 0)\n",
    "    race = df_binario['race']\n",
    "    \n",
    "    data = pd.DataFrame({\n",
    "        'y_true': df[\"age\"],  # Grupos de edad de 0 a 7\n",
    "        'y_predict': df[\"predicted_labels\"],  # Predicciones\n",
    "        'race': race,  # 0: No protegido, 1: Protegido\n",
    "        'gender': df[\"gender\"] \n",
    "    })\n",
    "    \n",
    "    targetRanges = list(range(9))  \n",
    "    biases = []\n",
    "\n",
    "    for targetRange in targetRanges:\n",
    "        bias = labelBiasMultiClass(data[['y_true', 'y_predict', 'race']].values, \n",
    "                                   data['y_predict'], \n",
    "                                   2,  # Índice de la columna protegida en la submatriz siempre es 2\n",
    "                                   1,  # Valor protegido\n",
    "                                   targetRange)\n",
    "        biases.append(bias)\n",
    "    \n",
    "    plt.plot(targetRanges, biases, label=race_true[i])\n",
    "    plt.xlabel('Rango de edad (targetRange)')\n",
    "    plt.ylabel('Sesgo')\n",
    "    plt.title('Sesgo por raza en cada rango de edad')\n",
    "\n",
    "plt.legend()\n",
    "plt.show()"
   ]
  },
  {
   "cell_type": "code",
   "execution_count": 12,
   "metadata": {},
   "outputs": [
    {
     "data": {
      "image/png": "[encoded data removed]",
      "text/plain": [
       "<Figure size 640x480 with 1 Axes>"
      ]
     },
     "metadata": {},
     "output_type": "display_data"
    }
   ],
   "source": [
    "for i in range(2):\n",
    "    \n",
    "    data = pd.DataFrame({\n",
    "        'y_true': df[\"age\"],  # Grupos de edad de 0 a 7\n",
    "        'y_predict': df[\"predicted_labels\"],  # Predicciones\n",
    "        'race': race,  # 0: No protegido, 1: Protegido\n",
    "        'gender': df[\"gender\"] \n",
    "    })\n",
    "    \n",
    "    targetRanges = list(range(9))  \n",
    "    biases = []\n",
    "\n",
    "    for targetRange in targetRanges:\n",
    "        bias = labelBiasMultiClass(data[['y_true', 'y_predict', 'gender']].values, \n",
    "                                   data['y_predict'], \n",
    "                                   2,  # Índice de la columna protegida en la submatriz siempre es 2\n",
    "                                   i,  # Valor protegido\n",
    "                                   targetRange)\n",
    "        biases.append(bias)\n",
    "    \n",
    "    # Generar el gráfico de líneas\n",
    "    plt.plot(targetRanges, biases, label=gender_true[i])\n",
    "    plt.xlabel('Rango de edad ')\n",
    "    plt.ylabel('Sesgo')\n",
    "    plt.title('Sesgo por raza en cada rango de edad')\n",
    "\n",
    "plt.legend()\n",
    "plt.show()"
   ]
  },
  {
   "cell_type": "code",
   "execution_count": 8,
   "metadata": {},
   "outputs": [],
   "source": [
    "gender=df['gender']\n",
    "y_true=df['age']\n",
    "y_pred= df['predicted_labels']\n"
   ]
  },
  {
   "cell_type": "code",
   "execution_count": 13,
   "metadata": {},
   "outputs": [
    {
     "name": "stdout",
     "output_type": "stream",
     "text": [
      "Un p-value menor de 0.05 da indicios de sesgos\n",
      "White\n",
      "Diferencia significativa en las predicciones por raza:  p-value=1.6276546807659065e-32\n",
      "Black\n",
      "Diferencia significativa en las predicciones por raza:  p-value=2.8035581825454947e-07\n",
      "Southeast Asian\n",
      "Diferencia significativa en las predicciones por raza:  p-value=4.8249814335226186e-26\n",
      "Indian\n",
      "Diferencia significativa en las predicciones por raza:  p-value=0.0016804654797648792\n",
      "Middle Eastern\n",
      "Diferencia significativa en las predicciones por raza:  p-value=7.533314065455293e-16\n"
     ]
    }
   ],
   "source": [
    "\n",
    "booleans=False\n",
    "for i in range (7):\n",
    "    a=False\n",
    "    df_binario = df.copy()\n",
    "    # Cambiar los valores de la columna 'race' a binario\n",
    "    df_binario['race'] = df_binario['race'].apply(lambda x: 1 if x == i else 0)\n",
    "    race = df_binario['race']\n",
    "\n",
    "    data = pd.DataFrame({\n",
    "    'y_true': y_true,    # Grupos de edad de 0 a 7\n",
    "    'y_pred': y_pred,\n",
    "    'race': race,      # 0: No protegido, 1: Protegido\n",
    "    'gender': gender    \n",
    "    })\n",
    "    \n",
    "# Cálculo del Disparate Impact Ratio para raza y género\n",
    "    dir_race = disparate_impact_ratio(data, 'race', 'y_true', 'y_pred')\n",
    "    if not (0.8 <= dir_race  and dir_race<= 1.25):\n",
    "        if not a:\n",
    "            print(race_true[i])\n",
    "            a=True\n",
    "        print(f\"Posible sesgo detectado : {dir_race}\")\n",
    "\n",
    "    chi2_race, p_race = chi_square_test(data, 'race', 'y_true', 'y_pred')\n",
    "\n",
    "    if p_race < 0.05:\n",
    "        if not booleans:\n",
    "            print(\"Un p-value menor de 0.05 da indicios de sesgos\")\n",
    "            booleans=True\n",
    "        if not a:\n",
    "            print(race_true[i])\n",
    "            a=True\n",
    "        print(f\"Diferencia significativa en las predicciones por raza:  p-value={p_race}\")\n",
    "\n"
   ]
  },
  {
   "cell_type": "code",
   "execution_count": null,
   "metadata": {},
   "outputs": [
    {
     "name": "stdout",
     "output_type": "stream",
     "text": [
      "Male\n",
      "Posible sesgo detectado en la variable género:1.5790687200600635\n",
      "Diferencia significativa en las predicciones por género:  p-value=1.2987423460341795e-62\n",
      "Female\n",
      "Posible sesgo detectado en la variable género:0.6332846615832924\n",
      "Diferencia significativa en las predicciones por género:  p-value=1.2987423460341795e-62\n"
     ]
    }
   ],
   "source": [
    "for i in range (2):\n",
    "    df_binario = df.copy()\n",
    "    \n",
    "    # Cambiar los valores de la columna 'race' a binario\n",
    "    df_binario['gender'] = df_binario['gender'].apply(lambda x: 1 if x == i else 0)\n",
    "    gender = df_binario['gender']\n",
    "    \n",
    "    print(gender_true[i])\n",
    "    data = pd.DataFrame({\n",
    "    'y_true': y_true,    # Grupos de edad de 0 a 7\n",
    "    'y_pred': y_pred,\n",
    "    'race': race,      # 0: No protegido, 1: Protegido\n",
    "    'gender': gender    \n",
    "    })\n",
    "    \n",
    "# Cálculo del Disparate Impact Ratio para raza y género\n",
    "  \n",
    "    dir_gender = disparate_impact_ratio(data, 'gender', 'y_true', 'y_pred')\n",
    "    if not (0.8 <= dir_gender <= 1.25):\n",
    "        print(f\"Posible sesgo detectado en la variable género:{dir_gender}\")\n",
    "\n",
    "# Aplicamos el test de Chi-cuadrado para raza y género\n",
    "    chi2_gender, p_gender = chi_square_test(data, 'gender', 'y_true', 'y_pred')\n",
    "\n",
    "# Evaluamos si p-value es menor que 0.05 (indicación de diferencia significativa)\n",
    "\n",
    "    if p_gender < 0.05:\n",
    "        print(f\"Diferencia significativa en las predicciones por género:  p-value={p_gender}\")"
   ]
  },
  {
   "cell_type": "code",
   "execution_count": null,
   "metadata": {},
   "outputs": [],
   "source": []
  }
 ],
 "metadata": {
  "kernelspec": {
   "display_name": "base",
   "language": "python",
   "name": "python3"
  },
  "language_info": {
   "codemirror_mode": {
    "name": "ipython",
    "version": 3
   },
   "file_extension": ".py",
   "mimetype": "text/x-python",
   "name": "python",
   "nbconvert_exporter": "python",
   "pygments_lexer": "ipython3",
   "version": "3.9.13"
  }
 },
 "nbformat": 4,
 "nbformat_minor": 2
}
